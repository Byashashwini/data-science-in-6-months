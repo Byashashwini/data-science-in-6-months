{
 "cells": [
  {
   "cell_type": "markdown",
   "id": "c20c6c02-76db-4206-a3f0-3b20f6246eb9",
   "metadata": {},
   "source": [
    "# Basic of Python\n",
    "- various DataTypes in Python\n",
    "- Variable\n",
    "- Variable Assignment\n",
    "- Print Formatting\n"
   ]
  },
  {
   "cell_type": "markdown",
   "id": "f9435c39-5dd1-44db-9ce1-0debd00b57ad",
   "metadata": {},
   "source": [
    "# Various Data Types in python\n",
    "## Numbers"
   ]
  },
  {
   "cell_type": "code",
   "execution_count": 1,
   "id": "3c125240-8ec2-4739-9bc7-dd7e84747f3d",
   "metadata": {},
   "outputs": [
    {
     "data": {
      "text/plain": [
       "2"
      ]
     },
     "execution_count": 1,
     "metadata": {},
     "output_type": "execute_result"
    }
   ],
   "source": [
    "1+1"
   ]
  },
  {
   "cell_type": "code",
   "execution_count": 2,
   "id": "e284fb95-259f-491a-9942-f70d7c58f31c",
   "metadata": {},
   "outputs": [
    {
     "data": {
      "text/plain": [
       "20"
      ]
     },
     "execution_count": 2,
     "metadata": {},
     "output_type": "execute_result"
    }
   ],
   "source": [
    "4*5"
   ]
  },
  {
   "cell_type": "code",
   "execution_count": 3,
   "id": "1397ce8a-e88e-40a4-8995-c8e36e83c564",
   "metadata": {},
   "outputs": [
    {
     "data": {
      "text/plain": [
       "20"
      ]
     },
     "execution_count": 3,
     "metadata": {},
     "output_type": "execute_result"
    }
   ],
   "source": [
    "2*10"
   ]
  },
  {
   "cell_type": "code",
   "execution_count": 4,
   "id": "13d172d7-6b4c-4318-9041-04ced92fc03d",
   "metadata": {},
   "outputs": [
    {
     "data": {
      "text/plain": [
       "5.0"
      ]
     },
     "execution_count": 4,
     "metadata": {},
     "output_type": "execute_result"
    }
   ],
   "source": [
    "10/2"
   ]
  },
  {
   "cell_type": "code",
   "execution_count": 5,
   "id": "a04d5563-d057-4262-b354-5702dfa97207",
   "metadata": {},
   "outputs": [
    {
     "data": {
      "text/plain": [
       "0"
      ]
     },
     "execution_count": 5,
     "metadata": {},
     "output_type": "execute_result"
    }
   ],
   "source": [
    "10%2"
   ]
  },
  {
   "cell_type": "code",
   "execution_count": 6,
   "id": "a12a851c-f5d0-4165-bb8a-8280756a89d9",
   "metadata": {},
   "outputs": [
    {
     "data": {
      "text/plain": [
       "'strstrstrstrstrstrstrstrstrstr'"
      ]
     },
     "execution_count": 6,
     "metadata": {},
     "output_type": "execute_result"
    }
   ],
   "source": [
    "10*'str'"
   ]
  },
  {
   "cell_type": "code",
   "execution_count": 7,
   "id": "b2ad690a-1ad1-4302-81f1-734052c0fdf5",
   "metadata": {},
   "outputs": [
    {
     "data": {
      "text/plain": [
       "100"
      ]
     },
     "execution_count": 7,
     "metadata": {},
     "output_type": "execute_result"
    }
   ],
   "source": [
    "10**2"
   ]
  },
  {
   "cell_type": "code",
   "execution_count": null,
   "id": "07bd0332-dfe0-40f1-a040-da85fcb94dde",
   "metadata": {},
   "outputs": [],
   "source": [
    "## Check the Data Types"
   ]
  },
  {
   "cell_type": "code",
   "execution_count": 8,
   "id": "af2d6b84-bf8c-486f-9f0c-a672d4c7902e",
   "metadata": {},
   "outputs": [
    {
     "data": {
      "text/plain": [
       "int"
      ]
     },
     "execution_count": 8,
     "metadata": {},
     "output_type": "execute_result"
    }
   ],
   "source": [
    "type(10)"
   ]
  },
  {
   "cell_type": "code",
   "execution_count": 9,
   "id": "702d9010-0178-4ce4-a706-b2e148b508d7",
   "metadata": {},
   "outputs": [
    {
     "data": {
      "text/plain": [
       "float"
      ]
     },
     "execution_count": 9,
     "metadata": {},
     "output_type": "execute_result"
    }
   ],
   "source": [
    "type(34.5)"
   ]
  },
  {
   "cell_type": "code",
   "execution_count": 10,
   "id": "230b3d4c-97aa-490b-a6b0-9d099c1f53b6",
   "metadata": {},
   "outputs": [
    {
     "data": {
      "text/plain": [
       "bool"
      ]
     },
     "execution_count": 10,
     "metadata": {},
     "output_type": "execute_result"
    }
   ],
   "source": [
    "type(True)"
   ]
  },
  {
   "cell_type": "code",
   "execution_count": 12,
   "id": "f3634a8e-8977-4992-9cfd-a95c8183e756",
   "metadata": {},
   "outputs": [
    {
     "data": {
      "text/plain": [
       "bool"
      ]
     },
     "execution_count": 12,
     "metadata": {},
     "output_type": "execute_result"
    }
   ],
   "source": [
    "type(False)"
   ]
  },
  {
   "cell_type": "code",
   "execution_count": 13,
   "id": "9d2fecf7-9dd5-4940-a9dd-ba2a346c700f",
   "metadata": {},
   "outputs": [
    {
     "data": {
      "text/plain": [
       "str"
      ]
     },
     "execution_count": 13,
     "metadata": {},
     "output_type": "execute_result"
    }
   ],
   "source": [
    "type(\"Hello\")"
   ]
  },
  {
   "cell_type": "markdown",
   "id": "00612978-8ab4-4ab0-8dc3-645596eaca43",
   "metadata": {},
   "source": [
    "# strings"
   ]
  },
  {
   "cell_type": "code",
   "execution_count": 14,
   "id": "384d0db5-e367-4307-a5be-b64425ff6dde",
   "metadata": {},
   "outputs": [
    {
     "data": {
      "text/plain": [
       "'Hello'"
      ]
     },
     "execution_count": 14,
     "metadata": {},
     "output_type": "execute_result"
    }
   ],
   "source": [
    "\"Hello\""
   ]
  },
  {
   "cell_type": "code",
   "execution_count": 15,
   "id": "3903955d-0ca1-4741-8693-375e5c35056a",
   "metadata": {},
   "outputs": [
    {
     "data": {
      "text/plain": [
       "'yashashwini'"
      ]
     },
     "execution_count": 15,
     "metadata": {},
     "output_type": "execute_result"
    }
   ],
   "source": [
    "'yashashwini'"
   ]
  },
  {
   "cell_type": "code",
   "execution_count": 17,
   "id": "f59f4164-1f4e-479c-915f-1db0976b7d86",
   "metadata": {},
   "outputs": [
    {
     "data": {
      "text/plain": [
       "str"
      ]
     },
     "execution_count": 17,
     "metadata": {},
     "output_type": "execute_result"
    }
   ],
   "source": [
    "type(\"yashashwini\")"
   ]
  },
  {
   "cell_type": "markdown",
   "id": "35f1b259-51ff-480f-b07a-04323fb02f0a",
   "metadata": {},
   "source": [
    "# Variable Assignment"
   ]
  },
  {
   "cell_type": "code",
   "execution_count": 18,
   "id": "dd0969d3-bdb8-47c1-88ed-ea8a4ba50f02",
   "metadata": {},
   "outputs": [],
   "source": [
    "# syntax\n",
    "# var_name=values\n",
    "\n",
    "a=10"
   ]
  },
  {
   "cell_type": "code",
   "execution_count": 19,
   "id": "b411b64a-70ea-450d-b3aa-e540cf61bca8",
   "metadata": {},
   "outputs": [
    {
     "data": {
      "text/plain": [
       "int"
      ]
     },
     "execution_count": 19,
     "metadata": {},
     "output_type": "execute_result"
    }
   ],
   "source": [
    "type(a)"
   ]
  },
  {
   "cell_type": "code",
   "execution_count": 20,
   "id": "51c75395-2c84-489e-b936-3c29d7c7b1a1",
   "metadata": {},
   "outputs": [
    {
     "data": {
      "text/plain": [
       "str"
      ]
     },
     "execution_count": 20,
     "metadata": {},
     "output_type": "execute_result"
    }
   ],
   "source": [
    "a='yashashwini'\n",
    "type(a)"
   ]
  },
  {
   "cell_type": "code",
   "execution_count": 21,
   "id": "3d197df3-969a-4004-8afb-5fe58d3f208b",
   "metadata": {},
   "outputs": [],
   "source": [
    "## Mathematical operation with variable Assignment\n",
    "\n",
    "a=10\n",
    "b=20"
   ]
  },
  {
   "cell_type": "code",
   "execution_count": 22,
   "id": "7b59aa08-545b-427d-a9f0-caa46d8db8ee",
   "metadata": {},
   "outputs": [
    {
     "name": "stdout",
     "output_type": "stream",
     "text": [
      "200\n",
      "0.5\n",
      "10\n",
      "200.5\n"
     ]
    }
   ],
   "source": [
    "print(a*b)\n",
    "print(a/b)\n",
    "print(a%b)\n",
    "print((a*b)+(a/b))\n"
   ]
  },
  {
   "cell_type": "code",
   "execution_count": 23,
   "id": "76ecf698-75f2-480e-a4b9-66f0303a61e0",
   "metadata": {},
   "outputs": [
    {
     "name": "stdout",
     "output_type": "stream",
     "text": [
      "hello\n"
     ]
    }
   ],
   "source": [
    "## various ways of printing\n",
    "print(\"hello\")"
   ]
  },
  {
   "cell_type": "code",
   "execution_count": 24,
   "id": "27cfc3bc-872f-4bdd-b716-9209cd7325a6",
   "metadata": {},
   "outputs": [],
   "source": [
    "first_name='Boppana'\n",
    "last_name='yashashwini'\n"
   ]
  },
  {
   "cell_type": "code",
   "execution_count": 25,
   "id": "01fb7152-347c-4149-8da6-5c885d8cdf11",
   "metadata": {},
   "outputs": [
    {
     "name": "stdout",
     "output_type": "stream",
     "text": [
      "My first name is Boppana and last name is yashashwini\n"
     ]
    }
   ],
   "source": [
    "print(\"My first name is {} and last name is {}\".format(first_name,last_name))"
   ]
  },
  {
   "cell_type": "code",
   "execution_count": 26,
   "id": "ff8b04d4-f9a2-4c47-a7f3-6768112da541",
   "metadata": {},
   "outputs": [
    {
     "name": "stdout",
     "output_type": "stream",
     "text": [
      "My first name is yashashwini and last name is Boppana\n"
     ]
    }
   ],
   "source": [
    "print(\"My first name is {} and last name is {}\".format(last_name,first_name))"
   ]
  },
  {
   "cell_type": "code",
   "execution_count": 28,
   "id": "bd4fd83b-b109-4393-8427-a5afadcf4547",
   "metadata": {},
   "outputs": [
    {
     "name": "stdout",
     "output_type": "stream",
     "text": [
      "My first name is Boppana and last name is yashashwini\n"
     ]
    }
   ],
   "source": [
    "print(\"My first name is {first} and last name is {last}\".format(last=last_name,first=first_name))"
   ]
  },
  {
   "cell_type": "code",
   "execution_count": 29,
   "id": "d03cbadd-4e71-472f-88d1-e48e2d551222",
   "metadata": {},
   "outputs": [
    {
     "data": {
      "text/plain": [
       "5"
      ]
     },
     "execution_count": 29,
     "metadata": {},
     "output_type": "execute_result"
    }
   ],
   "source": [
    "len(\"Hello\")"
   ]
  }
 ],
 "metadata": {
  "kernelspec": {
   "display_name": "Python 3 (ipykernel)",
   "language": "python",
   "name": "python3"
  },
  "language_info": {
   "codemirror_mode": {
    "name": "ipython",
    "version": 3
   },
   "file_extension": ".py",
   "mimetype": "text/x-python",
   "name": "python",
   "nbconvert_exporter": "python",
   "pygments_lexer": "ipython3",
   "version": "3.13.5"
  }
 },
 "nbformat": 4,
 "nbformat_minor": 5
}
