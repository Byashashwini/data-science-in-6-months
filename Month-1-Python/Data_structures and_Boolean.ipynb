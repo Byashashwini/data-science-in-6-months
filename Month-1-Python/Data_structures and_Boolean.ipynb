{
 "cells": [
  {
   "cell_type": "markdown",
   "id": "c92e1bc6-5d6d-40ed-ae1b-a8b7809c983a",
   "metadata": {},
   "source": [
    "# Python Data Structures and Boolean\n",
    "- Boolean\n",
    "- Boolean and Logical Operators\n",
    "- Lists\n",
    "- Comparison Operators\n",
    "- Dictionaries\n",
    "- Tuples\n",
    "- Sets"
   ]
  },
  {
   "cell_type": "markdown",
   "id": "55d888a9-3777-4cab-85c6-36cbb36d1045",
   "metadata": {},
   "source": [
    "## Boolean Variables\n",
    "- Boolean variables are the two constant objects Falseand true\n",
    "- They are used to represent truth values\n",
    "- The builtin function bool() can be used to cast any value to a boolean."
   ]
  },
  {
   "cell_type": "code",
   "execution_count": 4,
   "id": "114e3c65-03b6-48d5-8703-f6ea9280de60",
   "metadata": {},
   "outputs": [
    {
     "name": "stdout",
     "output_type": "stream",
     "text": [
      "True False\n"
     ]
    }
   ],
   "source": [
    "print(True,False)"
   ]
  },
  {
   "cell_type": "code",
   "execution_count": 5,
   "id": "703ec7cb-020f-465d-b66c-5e442b68f1f1",
   "metadata": {},
   "outputs": [
    {
     "data": {
      "text/plain": [
       "bool"
      ]
     },
     "execution_count": 5,
     "metadata": {},
     "output_type": "execute_result"
    }
   ],
   "source": [
    "type(True)"
   ]
  },
  {
   "cell_type": "code",
   "execution_count": 6,
   "id": "4f301ef4-580f-4f08-bcc8-4b4e4643fda2",
   "metadata": {},
   "outputs": [
    {
     "data": {
      "text/plain": [
       "bool"
      ]
     },
     "execution_count": 6,
     "metadata": {},
     "output_type": "execute_result"
    }
   ],
   "source": [
    "type(False)"
   ]
  },
  {
   "cell_type": "code",
   "execution_count": 12,
   "id": "448bde12-cc22-46aa-a3a5-f3f4b4236e85",
   "metadata": {},
   "outputs": [],
   "source": [
    "my_str=\"yashashwini23\""
   ]
  },
  {
   "cell_type": "code",
   "execution_count": 13,
   "id": "d4b5a2c6-de7b-4a7d-90a5-a4b8969e4738",
   "metadata": {},
   "outputs": [
    {
     "name": "stdout",
     "output_type": "stream",
     "text": [
      "True\n",
      "False\n",
      "False\n",
      "False\n",
      "False\n",
      "True\n",
      "False\n",
      "False\n",
      "False\n"
     ]
    }
   ],
   "source": [
    "print(my_str.isalnum()) #check if all char are numbers\n",
    "print(my_str.isalpha()) #check if all char in the string are alphabetic\n",
    "print(my_str.isdigit()) #test if all string contains digits \n",
    "print(my_str.istitle()) #test if all string contains title words\n",
    "print(my_str.isupper()) #test if all string contains upper case\n",
    "print(my_str.islower()) #test if all string contains lower case\n",
    "print(my_str.isspace()) #test if all string contains spaces\n",
    "print(my_str.endswith('i')) #test if all string endswith a i\n",
    "print(my_str.startswith('a')) #test if all string startswith a \n"
   ]
  },
  {
   "cell_type": "markdown",
   "id": "ec3d2c1b-3bff-4d22-9eec-f4151cd4e12e",
   "metadata": {},
   "source": [
    "## Boolean and Logical Operators"
   ]
  },
  {
   "cell_type": "code",
   "execution_count": 14,
   "id": "1fe60c8c-676c-421b-90fd-c7422883e257",
   "metadata": {},
   "outputs": [
    {
     "data": {
      "text/plain": [
       "True"
      ]
     },
     "execution_count": 14,
     "metadata": {},
     "output_type": "execute_result"
    }
   ],
   "source": [
    "True and True"
   ]
  },
  {
   "cell_type": "code",
   "execution_count": 15,
   "id": "c773bb40-35de-473e-9941-df10a72ff603",
   "metadata": {},
   "outputs": [
    {
     "data": {
      "text/plain": [
       "False"
      ]
     },
     "execution_count": 15,
     "metadata": {},
     "output_type": "execute_result"
    }
   ],
   "source": [
    "True and False"
   ]
  },
  {
   "cell_type": "code",
   "execution_count": 16,
   "id": "f956112f-07e0-4ba5-b65b-157a719e757a",
   "metadata": {},
   "outputs": [
    {
     "data": {
      "text/plain": [
       "True"
      ]
     },
     "execution_count": 16,
     "metadata": {},
     "output_type": "execute_result"
    }
   ],
   "source": [
    "True or True"
   ]
  },
  {
   "cell_type": "code",
   "execution_count": 17,
   "id": "adfcdf84-025c-4be2-8a8d-0192f45b9023",
   "metadata": {},
   "outputs": [
    {
     "data": {
      "text/plain": [
       "True"
      ]
     },
     "execution_count": 17,
     "metadata": {},
     "output_type": "execute_result"
    }
   ],
   "source": [
    "True or False"
   ]
  },
  {
   "cell_type": "code",
   "execution_count": 1,
   "id": "bac87d22-2d6d-451c-89df-e18d1de886ec",
   "metadata": {},
   "outputs": [],
   "source": [
    "str_example='hello world'\n",
    "my_str='yashu'"
   ]
  },
  {
   "cell_type": "code",
   "execution_count": 2,
   "id": "78085364-d9cc-4790-83ac-951c90d45a4b",
   "metadata": {},
   "outputs": [
    {
     "data": {
      "text/plain": [
       "True"
      ]
     },
     "execution_count": 2,
     "metadata": {},
     "output_type": "execute_result"
    }
   ],
   "source": [
    "my_str.isalpha() or str_example.isnum()"
   ]
  },
  {
   "cell_type": "markdown",
   "id": "f3b2b4f6-7624-4527-b7d3-5bc0547e92f5",
   "metadata": {},
   "source": [
    "# Lists"
   ]
  },
  {
   "cell_type": "markdown",
   "id": "ee9562cc-ba6d-4c97-bd10-54e865878290",
   "metadata": {},
   "source": [
    "- A List is a data structure in Python that is a mutable, or changeable , ordered sequence of elements. Each element or value that is inside of a list is called an item. just as strings are defined as characters between quotes , lists are defined by having values between square brackets[]"
   ]
  },
  {
   "cell_type": "code",
   "execution_count": 1,
   "id": "7a043154-4a89-44a9-885c-e1663c8a397e",
   "metadata": {},
   "outputs": [
    {
     "data": {
      "text/plain": [
       "list"
      ]
     },
     "execution_count": 1,
     "metadata": {},
     "output_type": "execute_result"
    }
   ],
   "source": [
    "type([])"
   ]
  },
  {
   "cell_type": "code",
   "execution_count": 3,
   "id": "ca8fe78e-1410-40bb-81ce-f7296d7ce9a2",
   "metadata": {},
   "outputs": [],
   "source": [
    "lst_example=[]"
   ]
  },
  {
   "cell_type": "code",
   "execution_count": 4,
   "id": "165169d6-4e4e-4a21-9966-bb84f090c224",
   "metadata": {},
   "outputs": [
    {
     "data": {
      "text/plain": [
       "list"
      ]
     },
     "execution_count": 4,
     "metadata": {},
     "output_type": "execute_result"
    }
   ],
   "source": [
    "type(lst_example)"
   ]
  },
  {
   "cell_type": "code",
   "execution_count": 5,
   "id": "216255bc-d29a-4580-9e08-554589b855ef",
   "metadata": {},
   "outputs": [],
   "source": [
    "list=list()"
   ]
  },
  {
   "cell_type": "code",
   "execution_count": 6,
   "id": "bc54ffe5-612a-45c2-b0d6-5a4343d8333f",
   "metadata": {},
   "outputs": [
    {
     "data": {
      "text/plain": [
       "list"
      ]
     },
     "execution_count": 6,
     "metadata": {},
     "output_type": "execute_result"
    }
   ],
   "source": [
    "type(list)"
   ]
  },
  {
   "cell_type": "code",
   "execution_count": 7,
   "id": "93b3d09d-33bc-429d-8151-6392f47f05f5",
   "metadata": {},
   "outputs": [],
   "source": [
    "lst=['Mathematics', 'chemistry', 100, 200, 300, 204]"
   ]
  },
  {
   "cell_type": "code",
   "execution_count": 8,
   "id": "6e0ff506-594e-4b0e-8981-f5178cdce662",
   "metadata": {},
   "outputs": [
    {
     "data": {
      "text/plain": [
       "list"
      ]
     },
     "execution_count": 8,
     "metadata": {},
     "output_type": "execute_result"
    }
   ],
   "source": [
    "type(lst)"
   ]
  },
  {
   "cell_type": "code",
   "execution_count": 9,
   "id": "353a3d12-d55b-42ea-af12-f48d5be0ef34",
   "metadata": {},
   "outputs": [
    {
     "data": {
      "text/plain": [
       "6"
      ]
     },
     "execution_count": 9,
     "metadata": {},
     "output_type": "execute_result"
    }
   ],
   "source": [
    "len(lst)"
   ]
  },
  {
   "cell_type": "markdown",
   "id": "2c984b11-6e42-48dc-8135-91737b5957f2",
   "metadata": {},
   "source": [
    "## Append"
   ]
  },
  {
   "cell_type": "code",
   "execution_count": 10,
   "id": "ac06f536-7630-47c4-a7ac-4523eaeac4ea",
   "metadata": {},
   "outputs": [],
   "source": [
    "# .append is used to add elements in the list\n",
    "lst.append(\"yashu\")"
   ]
  },
  {
   "cell_type": "code",
   "execution_count": 17,
   "id": "61302905-0662-4f1e-a58c-57c453ab3b45",
   "metadata": {},
   "outputs": [],
   "source": [
    "lst.append([\"john\",\"Bala\"])"
   ]
  },
  {
   "cell_type": "code",
   "execution_count": 18,
   "id": "ed71826b-080a-4503-bec8-e905566bec8c",
   "metadata": {},
   "outputs": [
    {
     "data": {
      "text/plain": [
       "['Mathematics', 'chemistry', 100, 200, 300, 204, 'yashu', ['john', 'Bala']]"
      ]
     },
     "execution_count": 18,
     "metadata": {},
     "output_type": "execute_result"
    }
   ],
   "source": [
    "lst"
   ]
  },
  {
   "cell_type": "code",
   "execution_count": 12,
   "id": "f27750ae-ff9f-4d13-9089-3cb98fad701f",
   "metadata": {},
   "outputs": [
    {
     "data": {
      "text/plain": [
       "'yashu'"
      ]
     },
     "execution_count": 12,
     "metadata": {},
     "output_type": "execute_result"
    }
   ],
   "source": [
    "## indexing in list\n",
    "lst[6]"
   ]
  },
  {
   "cell_type": "code",
   "execution_count": 13,
   "id": "85ca1c88-5f31-476d-b127-5d02b292f1b5",
   "metadata": {},
   "outputs": [
    {
     "data": {
      "text/plain": [
       "['Mathematics', 'chemistry', 100, 200, 300, 204, 'yashu']"
      ]
     },
     "execution_count": 13,
     "metadata": {},
     "output_type": "execute_result"
    }
   ],
   "source": [
    "lst[:]"
   ]
  },
  {
   "cell_type": "code",
   "execution_count": 14,
   "id": "ed9c2146-7df6-49fe-9cf2-b334e50f0305",
   "metadata": {},
   "outputs": [
    {
     "data": {
      "text/plain": [
       "['chemistry', 100, 200, 300, 204, 'yashu']"
      ]
     },
     "execution_count": 14,
     "metadata": {},
     "output_type": "execute_result"
    }
   ],
   "source": [
    "lst[1:]"
   ]
  },
  {
   "cell_type": "code",
   "execution_count": 15,
   "id": "c830e789-ee29-4e30-9897-7cafafdbfdec",
   "metadata": {},
   "outputs": [
    {
     "data": {
      "text/plain": [
       "['chemistry', 100, 200, 300, 204]"
      ]
     },
     "execution_count": 15,
     "metadata": {},
     "output_type": "execute_result"
    }
   ],
   "source": [
    "lst[1:6]"
   ]
  },
  {
   "cell_type": "code",
   "execution_count": 16,
   "id": "09a63303-bc83-4cd7-b796-6eee2bb49286",
   "metadata": {},
   "outputs": [
    {
     "data": {
      "text/plain": [
       "['chemistry', 100, 200, 300, 204, 'yashu']"
      ]
     },
     "execution_count": 16,
     "metadata": {},
     "output_type": "execute_result"
    }
   ],
   "source": [
    "lst[1:7]"
   ]
  },
  {
   "cell_type": "markdown",
   "id": "83cd7075-6fdd-49b4-a3ca-613360f99c8f",
   "metadata": {},
   "source": [
    "## Insert"
   ]
  },
  {
   "cell_type": "code",
   "execution_count": 19,
   "id": "ee4db0c8-aed1-4a38-b0b1-6653df0fab85",
   "metadata": {},
   "outputs": [],
   "source": [
    "## insert in a specific order\n",
    "lst.insert(2,\"Alice\")"
   ]
  },
  {
   "cell_type": "code",
   "execution_count": 20,
   "id": "dd179139-01fd-4985-a318-607b703dc989",
   "metadata": {},
   "outputs": [
    {
     "data": {
      "text/plain": [
       "['Mathematics',\n",
       " 'chemistry',\n",
       " 'Alice',\n",
       " 100,\n",
       " 200,\n",
       " 300,\n",
       " 204,\n",
       " 'yashu',\n",
       " ['john', 'Bala']]"
      ]
     },
     "execution_count": 20,
     "metadata": {},
     "output_type": "execute_result"
    }
   ],
   "source": [
    "lst"
   ]
  },
  {
   "cell_type": "code",
   "execution_count": 23,
   "id": "0afa634c-3ad9-47fa-b806-419cf7a38ff0",
   "metadata": {},
   "outputs": [],
   "source": [
    "lst=[1,2,3]\n"
   ]
  },
  {
   "cell_type": "code",
   "execution_count": 24,
   "id": "0de40d16-8ede-432a-9f8c-6f8a8f45e2b3",
   "metadata": {},
   "outputs": [],
   "source": [
    "lst.append([4,5])"
   ]
  },
  {
   "cell_type": "code",
   "execution_count": 25,
   "id": "caa4bf3d-75e3-4228-aa8d-2750c852d250",
   "metadata": {},
   "outputs": [
    {
     "data": {
      "text/plain": [
       "[1, 2, 3, [4, 5]]"
      ]
     },
     "execution_count": 25,
     "metadata": {},
     "output_type": "execute_result"
    }
   ],
   "source": [
    "lst"
   ]
  },
  {
   "cell_type": "markdown",
   "id": "41313236-be85-44a3-9bb7-cbd5542c9d37",
   "metadata": {},
   "source": [
    "## Extend method"
   ]
  },
  {
   "cell_type": "code",
   "execution_count": 26,
   "id": "96c98a20-a118-415f-af43-e1aea3abecd7",
   "metadata": {},
   "outputs": [],
   "source": [
    "lst.extend([6,7])"
   ]
  },
  {
   "cell_type": "code",
   "execution_count": 27,
   "id": "b1492a1e-501e-49ff-9ac6-a7c1b5bbc400",
   "metadata": {},
   "outputs": [
    {
     "data": {
      "text/plain": [
       "[1, 2, 3, [4, 5], 6, 7]"
      ]
     },
     "execution_count": 27,
     "metadata": {},
     "output_type": "execute_result"
    }
   ],
   "source": [
    "lst"
   ]
  },
  {
   "cell_type": "markdown",
   "id": "dcc7bb82-adf8-4b56-b4e3-5be3aa936f68",
   "metadata": {},
   "source": [
    "## Various operations that we can perform in List"
   ]
  },
  {
   "cell_type": "code",
   "execution_count": 45,
   "id": "219904b3-6b9a-4f5f-9608-1ed1bd181dae",
   "metadata": {},
   "outputs": [],
   "source": [
    "lst=[1,2,3,4,5]"
   ]
  },
  {
   "cell_type": "code",
   "execution_count": 46,
   "id": "fcd7d80c-2016-4a4c-bd6b-63b373224c8b",
   "metadata": {},
   "outputs": [
    {
     "data": {
      "text/plain": [
       "15"
      ]
     },
     "execution_count": 46,
     "metadata": {},
     "output_type": "execute_result"
    }
   ],
   "source": [
    "sum(lst)"
   ]
  },
  {
   "cell_type": "code",
   "execution_count": 47,
   "id": "35cf828a-725e-4922-935d-4b29620276a5",
   "metadata": {},
   "outputs": [
    {
     "data": {
      "text/plain": [
       "[1, 2, 3, 4, 5, 1, 2, 3, 4, 5]"
      ]
     },
     "execution_count": 47,
     "metadata": {},
     "output_type": "execute_result"
    }
   ],
   "source": [
    "lst*2"
   ]
  },
  {
   "cell_type": "markdown",
   "id": "173fadf1-7ab9-42ea-9386-a90cd27943f3",
   "metadata": {},
   "source": [
    "## pop() Method"
   ]
  },
  {
   "cell_type": "code",
   "execution_count": 31,
   "id": "52b74e4a-a566-4dcd-bec4-edb7124da36f",
   "metadata": {},
   "outputs": [
    {
     "data": {
      "text/plain": [
       "5"
      ]
     },
     "execution_count": 31,
     "metadata": {},
     "output_type": "execute_result"
    }
   ],
   "source": [
    "lst.pop()"
   ]
  },
  {
   "cell_type": "code",
   "execution_count": 38,
   "id": "e6b00297-8a50-44a7-9ca0-d00d37032961",
   "metadata": {},
   "outputs": [
    {
     "data": {
      "text/plain": [
       "1"
      ]
     },
     "execution_count": 38,
     "metadata": {},
     "output_type": "execute_result"
    }
   ],
   "source": [
    "lst.pop(0)"
   ]
  },
  {
   "cell_type": "code",
   "execution_count": 33,
   "id": "e01e4f11-68b4-4e0d-a105-54fbc9e60cfa",
   "metadata": {},
   "outputs": [
    {
     "data": {
      "text/plain": [
       "[2, 3, 4]"
      ]
     },
     "execution_count": 33,
     "metadata": {},
     "output_type": "execute_result"
    }
   ],
   "source": [
    "lst"
   ]
  },
  {
   "cell_type": "markdown",
   "id": "54dba54e-5aca-4855-90fd-95681cb6db3f",
   "metadata": {},
   "source": [
    "## count(): Calculates total occurence of given element of list"
   ]
  },
  {
   "cell_type": "code",
   "execution_count": 42,
   "id": "1c644b57-5d1f-47e0-bf54-9c8b4da544d1",
   "metadata": {},
   "outputs": [
    {
     "data": {
      "text/plain": [
       "2"
      ]
     },
     "execution_count": 42,
     "metadata": {},
     "output_type": "execute_result"
    }
   ],
   "source": [
    "lst=[1,1,2,3,4,5]\n",
    "lst.count(1)"
   ]
  },
  {
   "cell_type": "code",
   "execution_count": 43,
   "id": "c91d954d-5b0b-4514-82b8-d1b5694e8dfe",
   "metadata": {},
   "outputs": [
    {
     "data": {
      "text/plain": [
       "6"
      ]
     },
     "execution_count": 43,
     "metadata": {},
     "output_type": "execute_result"
    }
   ],
   "source": [
    "# length:calculates total length of List\n",
    "len(lst)"
   ]
  },
  {
   "cell_type": "code",
   "execution_count": 44,
   "id": "3f975507-d301-4ecb-a02b-c1810da16544",
   "metadata": {},
   "outputs": [
    {
     "data": {
      "text/plain": [
       "1"
      ]
     },
     "execution_count": 44,
     "metadata": {},
     "output_type": "execute_result"
    }
   ],
   "source": [
    "# index(): Returns the index of first occurence. start and end index are not neccessary parameters\n",
    "lst.index(1,1,4)"
   ]
  },
  {
   "cell_type": "code",
   "execution_count": 37,
   "id": "2aa15041-3558-448f-b8af-89ed680fefcd",
   "metadata": {},
   "outputs": [
    {
     "data": {
      "text/plain": [
       "1"
      ]
     },
     "execution_count": 37,
     "metadata": {},
     "output_type": "execute_result"
    }
   ],
   "source": [
    "min(lst)"
   ]
  },
  {
   "cell_type": "code",
   "execution_count": 39,
   "id": "22497307-e3ad-4e30-b8a3-26729a5c02b3",
   "metadata": {},
   "outputs": [
    {
     "data": {
      "text/plain": [
       "5"
      ]
     },
     "execution_count": 39,
     "metadata": {},
     "output_type": "execute_result"
    }
   ],
   "source": [
    "max(lst)"
   ]
  }
 ],
 "metadata": {
  "kernelspec": {
   "display_name": "Python 3 (ipykernel)",
   "language": "python",
   "name": "python3"
  },
  "language_info": {
   "codemirror_mode": {
    "name": "ipython",
    "version": 3
   },
   "file_extension": ".py",
   "mimetype": "text/x-python",
   "name": "python",
   "nbconvert_exporter": "python",
   "pygments_lexer": "ipython3",
   "version": "3.13.5"
  }
 },
 "nbformat": 4,
 "nbformat_minor": 5
}
