{
 "cells": [
  {
   "cell_type": "code",
   "execution_count": 3,
   "id": "e886ab1e-a2f6-4aa6-b886-dee4412ad627",
   "metadata": {},
   "outputs": [
    {
     "name": "stdin",
     "output_type": "stream",
     "text": [
      "Enter your name:  Alex\n",
      "Enter your weight in pounds :  99\n",
      "Enter your height in inches:  54\n"
     ]
    },
    {
     "name": "stdout",
     "output_type": "stream",
     "text": [
      "23.867283950617285\n",
      "Alex, you are normal weight.\n"
     ]
    }
   ],
   "source": [
    "name=input(\"Enter your name: \")\n",
    "\n",
    "weight=int(input(\"Enter your weight in pounds : \"))\n",
    "\n",
    "height=int(input(\"Enter your height in inches: \"))\n",
    "\n",
    "BMI=(weight * 703)/(height * height)\n",
    "\n",
    "print(BMI)\n",
    "\n",
    "if BMI>0:\n",
    "    if(BMI<18.5):\n",
    "        print(name +\", you are underweight.\")\n",
    "    elif(BMI<=24.9):\n",
    "        print(name +\", you are normal weight.\")\n",
    "    elif(BMI<=29.9):\n",
    "        print(name +\", you are overweight. you need to exercise more and stop sitting and writing so many python programs.\")\n",
    "    elif(BMI<=34.9):\n",
    "         print(name +\", you are obese.\")\n",
    "    elif(BMI<=39.9):\n",
    "        print(name +\", you are  severly obese.\")\n",
    "    else:\n",
    "        print(name +\", you are morbidly obese.\")\n",
    "else:\n",
    "    print(\"Enter valid input\")\n"
   ]
  },
  {
   "cell_type": "code",
   "execution_count": null,
   "id": "5c22d1dd-244f-4ce0-adfa-d190eae01c5a",
   "metadata": {},
   "outputs": [],
   "source": []
  }
 ],
 "metadata": {
  "kernelspec": {
   "display_name": "Python 3 (ipykernel)",
   "language": "python",
   "name": "python3"
  },
  "language_info": {
   "codemirror_mode": {
    "name": "ipython",
    "version": 3
   },
   "file_extension": ".py",
   "mimetype": "text/x-python",
   "name": "python",
   "nbconvert_exporter": "python",
   "pygments_lexer": "ipython3",
   "version": "3.13.5"
  }
 },
 "nbformat": 4,
 "nbformat_minor": 5
}
