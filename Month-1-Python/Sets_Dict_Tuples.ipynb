{
 "cells": [
  {
   "cell_type": "markdown",
   "id": "467b0a8c-1e71-4824-85be-869e229ba1ea",
   "metadata": {},
   "source": [
    "# sets"
   ]
  },
  {
   "cell_type": "markdown",
   "id": "2830147e-a4f8-41f7-8687-4f8e2403f051",
   "metadata": {},
   "source": [
    "- A set is an unordered collection of Data Type that is iterable,mutable, and has no duplicate elements. Python's set class represents the mathematical notion of a set. This is based on a data structure known as a hash table."
   ]
  },
  {
   "cell_type": "code",
   "execution_count": 1,
   "id": "c272808f-4939-4441-a8b7-58ba6d33fda9",
   "metadata": {},
   "outputs": [
    {
     "name": "stdout",
     "output_type": "stream",
     "text": [
      "set()\n",
      "<class 'set'>\n"
     ]
    }
   ],
   "source": [
    "## Defining an empty set\n",
    "\n",
    "set_var= set()\n",
    "print(set_var)\n",
    "print(type(set_var))"
   ]
  },
  {
   "cell_type": "code",
   "execution_count": 7,
   "id": "41a1cfbb-5cff-4a42-ae85-14f85df96c21",
   "metadata": {},
   "outputs": [
    {
     "data": {
      "text/plain": [
       "{1, 2, 3, 4}"
      ]
     },
     "execution_count": 7,
     "metadata": {},
     "output_type": "execute_result"
    }
   ],
   "source": [
    "set_var={1,2,3,4,3}\n",
    "set_var"
   ]
  },
  {
   "cell_type": "code",
   "execution_count": 11,
   "id": "c74d8825-3344-4769-8e33-1df1bd4ce0e3",
   "metadata": {},
   "outputs": [
    {
     "name": "stdout",
     "output_type": "stream",
     "text": [
      "{'HitMan', 'Avengers', 'IronMan'}\n",
      "<class 'set'>\n"
     ]
    }
   ],
   "source": [
    "set_var= {\"Avengers\",\"IronMan\",'HitMan'}\n",
    "print(set_var)\n",
    "print(type(set_var))\n",
    "          "
   ]
  },
  {
   "cell_type": "code",
   "execution_count": 12,
   "id": "729ba6bc-d7d8-4c6e-b78a-6490b017ee7b",
   "metadata": {},
   "outputs": [],
   "source": [
    "## Inbuilt function in sets\n",
    "set_var.add(\"Hulk\")"
   ]
  },
  {
   "cell_type": "code",
   "execution_count": 13,
   "id": "c98816f3-c84f-49af-8b76-9d4095360fed",
   "metadata": {},
   "outputs": [
    {
     "name": "stdout",
     "output_type": "stream",
     "text": [
      "{'Hulk', 'HitMan', 'Avengers', 'IronMan'}\n"
     ]
    }
   ],
   "source": [
    "print(set_var)"
   ]
  },
  {
   "cell_type": "code",
   "execution_count": 30,
   "id": "61ce9142-ea28-44b1-bfae-b9967cc072cd",
   "metadata": {},
   "outputs": [],
   "source": [
    "set1={\"Avangers\",\"IronMan\",'HitMan'}\n",
    "set2={\"Avangers\",\"IronMan\",'HitMan','Hulk2'}"
   ]
  },
  {
   "cell_type": "code",
   "execution_count": 27,
   "id": "73373b6f-de5b-4fa3-8499-db83b34e23eb",
   "metadata": {},
   "outputs": [],
   "source": [
    "set2.intersection_update(set1)"
   ]
  },
  {
   "cell_type": "code",
   "execution_count": 28,
   "id": "9fd7e017-fd46-4e56-9b68-dde2af0c5400",
   "metadata": {},
   "outputs": [
    {
     "data": {
      "text/plain": [
       "{'Avangers', 'HitMan', 'IronMan'}"
      ]
     },
     "execution_count": 28,
     "metadata": {},
     "output_type": "execute_result"
    }
   ],
   "source": [
    "set2"
   ]
  },
  {
   "cell_type": "code",
   "execution_count": 31,
   "id": "b4201290-b76a-4b3b-856b-9e27964df510",
   "metadata": {},
   "outputs": [
    {
     "data": {
      "text/plain": [
       "{'Hulk2'}"
      ]
     },
     "execution_count": 31,
     "metadata": {},
     "output_type": "execute_result"
    }
   ],
   "source": [
    "## Difference \n",
    "set2.difference(set1)"
   ]
  },
  {
   "cell_type": "code",
   "execution_count": 32,
   "id": "b77a6833-da42-4fa3-9b64-e6436112f09e",
   "metadata": {},
   "outputs": [],
   "source": [
    "##Difference update\n",
    "set2.difference_update(set1)"
   ]
  },
  {
   "cell_type": "code",
   "execution_count": 33,
   "id": "57257989-e03f-4373-97e9-fa77aa262fd9",
   "metadata": {},
   "outputs": [
    {
     "name": "stdout",
     "output_type": "stream",
     "text": [
      "{'Hulk2'}\n"
     ]
    }
   ],
   "source": [
    "print(set2)"
   ]
  },
  {
   "cell_type": "markdown",
   "id": "c1a311d9-3e1a-4b7b-8c3d-76aebf45914d",
   "metadata": {},
   "source": [
    "# Dictionaries\n",
    "- A dictionary is a collection which is ordered , changeable and indexed. In Python dictionries are written with curly brackets, and they have keys and values."
   ]
  },
  {
   "cell_type": "code",
   "execution_count": 34,
   "id": "4dd7acec-f3eb-47d4-bf6d-5ed02f134bcd",
   "metadata": {},
   "outputs": [],
   "source": [
    "dic={}"
   ]
  },
  {
   "cell_type": "code",
   "execution_count": 35,
   "id": "5a09d664-499c-43cb-84a8-2aa0e9c1c1ea",
   "metadata": {},
   "outputs": [
    {
     "data": {
      "text/plain": [
       "dict"
      ]
     },
     "execution_count": 35,
     "metadata": {},
     "output_type": "execute_result"
    }
   ],
   "source": [
    "type(dic)"
   ]
  },
  {
   "cell_type": "code",
   "execution_count": 36,
   "id": "7ad5d5dd-e197-4a22-b79b-6808caa1476f",
   "metadata": {},
   "outputs": [],
   "source": [
    "dic={1,2,3,4,5}"
   ]
  },
  {
   "cell_type": "code",
   "execution_count": 37,
   "id": "fa141140-a96b-4e15-9d95-4193fb78a84d",
   "metadata": {},
   "outputs": [
    {
     "data": {
      "text/plain": [
       "set"
      ]
     },
     "execution_count": 37,
     "metadata": {},
     "output_type": "execute_result"
    }
   ],
   "source": [
    "type(dic)"
   ]
  },
  {
   "cell_type": "code",
   "execution_count": 53,
   "id": "5cb05265-21ed-42e7-84f5-4657bc0d90b7",
   "metadata": {},
   "outputs": [],
   "source": [
    "## Let create a dictionary\n",
    "my_dict={\"Car1\":\"Audi\", \"car2\":\"BMW\", \"car3\":\"Mercidies\"}"
   ]
  },
  {
   "cell_type": "code",
   "execution_count": 54,
   "id": "63440287-e2ab-40ef-9ac7-3fd8a2d7f3c5",
   "metadata": {},
   "outputs": [
    {
     "data": {
      "text/plain": [
       "dict"
      ]
     },
     "execution_count": 54,
     "metadata": {},
     "output_type": "execute_result"
    }
   ],
   "source": [
    "type(my_dict)"
   ]
  },
  {
   "cell_type": "code",
   "execution_count": 55,
   "id": "f859f5fb-9aa8-4265-a796-1c2006f2eafb",
   "metadata": {},
   "outputs": [
    {
     "data": {
      "text/plain": [
       "'Audi'"
      ]
     },
     "execution_count": 55,
     "metadata": {},
     "output_type": "execute_result"
    }
   ],
   "source": [
    "## Access the item values based on keys\n",
    "\n",
    "my_dict['Car1']"
   ]
  },
  {
   "cell_type": "code",
   "execution_count": 56,
   "id": "4fd3c8a0-844b-4546-bceb-c6b76d6bd111",
   "metadata": {},
   "outputs": [
    {
     "name": "stdout",
     "output_type": "stream",
     "text": [
      "Audi\n",
      "BMW\n",
      "Mercidies\n"
     ]
    }
   ],
   "source": [
    "# we can even loop throught the dictionaries values\n",
    "\n",
    "for x in my_dict.values():\n",
    "    print(x)"
   ]
  },
  {
   "cell_type": "code",
   "execution_count": 57,
   "id": "c3da2a24-ec92-4383-8dd3-3c2e74e3d699",
   "metadata": {},
   "outputs": [
    {
     "name": "stdout",
     "output_type": "stream",
     "text": [
      "Car1\n",
      "car2\n",
      "car3\n"
     ]
    }
   ],
   "source": [
    "for x in my_dict:\n",
    "    print(x)"
   ]
  },
  {
   "cell_type": "code",
   "execution_count": 58,
   "id": "d22f7475-1bb5-4b7f-8f9d-aad984c1ad92",
   "metadata": {},
   "outputs": [
    {
     "name": "stdout",
     "output_type": "stream",
     "text": [
      "('Car1', 'Audi')\n",
      "('car2', 'BMW')\n",
      "('car3', 'Mercidies')\n"
     ]
    }
   ],
   "source": [
    "# wecan also check both keys and values\n",
    "for x in my_dict.items():\n",
    "    print(x)"
   ]
  },
  {
   "cell_type": "code",
   "execution_count": 59,
   "id": "e56fa0cb-cd2a-447a-98c9-8e0d027e1d03",
   "metadata": {},
   "outputs": [],
   "source": [
    "## adding items in Dictionaries\n",
    "\n",
    "my_dict['car4']='Audi 2.0'"
   ]
  },
  {
   "cell_type": "code",
   "execution_count": 63,
   "id": "bd0b55f2-f9ef-440a-a095-c63f449c3c0d",
   "metadata": {},
   "outputs": [
    {
     "data": {
      "text/plain": [
       "{'Car1': 'Audi',\n",
       " 'car2': 'BMW',\n",
       " 'car3': 'Mercidies',\n",
       " 'car4': 'Audi 2.0',\n",
       " 'car1': 'Maruti'}"
      ]
     },
     "execution_count": 63,
     "metadata": {},
     "output_type": "execute_result"
    }
   ],
   "source": [
    "my_dict"
   ]
  },
  {
   "cell_type": "code",
   "execution_count": 66,
   "id": "c802cdf1-bac7-4673-9a0b-6aa06489762c",
   "metadata": {},
   "outputs": [],
   "source": [
    "my_dict['Car1']='Maruti'\n"
   ]
  },
  {
   "cell_type": "code",
   "execution_count": 67,
   "id": "aa90c92d-5f54-43e7-8070-643a70fb6cc4",
   "metadata": {},
   "outputs": [
    {
     "data": {
      "text/plain": [
       "{'Car1': 'Maruti',\n",
       " 'car2': 'BMW',\n",
       " 'car3': 'Mercidies',\n",
       " 'car4': 'Audi 2.0',\n",
       " 'car1': 'Maruti'}"
      ]
     },
     "execution_count": 67,
     "metadata": {},
     "output_type": "execute_result"
    }
   ],
   "source": [
    "my_dict"
   ]
  },
  {
   "cell_type": "markdown",
   "id": "f5406ba5-8d1a-4cc6-a465-1fb16a200a05",
   "metadata": {},
   "source": [
    "# Nested Dictionary"
   ]
  },
  {
   "cell_type": "code",
   "execution_count": 68,
   "id": "cca6d255-ea00-4a8c-913a-4702efe9cdb5",
   "metadata": {},
   "outputs": [],
   "source": [
    "car1_model={'Mercedes':1960}\n",
    "car2_model={'Audi':1970}\n",
    "car3_model={'Ambassador':1980}\n",
    "\n",
    "car_type={'car1':car1_model,'car2':car2_model,'car3':car3_model}\n"
   ]
  },
  {
   "cell_type": "code",
   "execution_count": 69,
   "id": "d97283a2-2629-46c5-878e-54f73f6ef667",
   "metadata": {},
   "outputs": [
    {
     "name": "stdout",
     "output_type": "stream",
     "text": [
      "{'car1': {'Mercedes': 1960}, 'car2': {'Audi': 1970}, 'car3': {'Ambassador': 1980}}\n"
     ]
    }
   ],
   "source": [
    "print(car_type)"
   ]
  },
  {
   "cell_type": "code",
   "execution_count": 70,
   "id": "fcb99f02-50f8-4e43-a13b-a8cbd7561877",
   "metadata": {},
   "outputs": [
    {
     "name": "stdout",
     "output_type": "stream",
     "text": [
      "{'Mercedes': 1960}\n"
     ]
    }
   ],
   "source": [
    "## Accessing the items in the dictionary\n",
    "print(car_type['car1'])"
   ]
  },
  {
   "cell_type": "code",
   "execution_count": 71,
   "id": "e005d229-f83b-4ad2-97c5-e9a216b38b19",
   "metadata": {},
   "outputs": [
    {
     "name": "stdout",
     "output_type": "stream",
     "text": [
      "1960\n"
     ]
    }
   ],
   "source": [
    "print(car_type['car1']['Mercedes'])"
   ]
  },
  {
   "cell_type": "markdown",
   "id": "1ff9f864-5de0-4380-b9dd-a2c2fef107c0",
   "metadata": {},
   "source": [
    "# Tuples"
   ]
  },
  {
   "cell_type": "code",
   "execution_count": 72,
   "id": "bdca00a4-0ab7-4662-9446-f1390fb5a669",
   "metadata": {},
   "outputs": [],
   "source": [
    "## create an empty Tuples\n",
    "\n",
    "my_tuple=tuple()"
   ]
  },
  {
   "cell_type": "code",
   "execution_count": 73,
   "id": "ee00ee7a-f327-409f-9dd3-e4f7b3953125",
   "metadata": {},
   "outputs": [
    {
     "data": {
      "text/plain": [
       "tuple"
      ]
     },
     "execution_count": 73,
     "metadata": {},
     "output_type": "execute_result"
    }
   ],
   "source": [
    "type(my_tuple)"
   ]
  },
  {
   "cell_type": "code",
   "execution_count": 74,
   "id": "e17295bb-6851-4056-9b80-cda9f897fabc",
   "metadata": {},
   "outputs": [],
   "source": [
    "my_tuple=()"
   ]
  },
  {
   "cell_type": "code",
   "execution_count": 75,
   "id": "f566af08-fb3e-46f3-8c2d-3d8d6dfffbf0",
   "metadata": {},
   "outputs": [
    {
     "data": {
      "text/plain": [
       "tuple"
      ]
     },
     "execution_count": 75,
     "metadata": {},
     "output_type": "execute_result"
    }
   ],
   "source": [
    "type(my_tuple)"
   ]
  },
  {
   "cell_type": "code",
   "execution_count": 81,
   "id": "48d6c037-4b78-4743-a95b-06aacea464e3",
   "metadata": {},
   "outputs": [],
   "source": [
    "my_tuple=(\"yashu\",\"alice\",\"john\")"
   ]
  },
  {
   "cell_type": "code",
   "execution_count": 77,
   "id": "100b1e87-b92c-48a5-b518-13417eefea8f",
   "metadata": {},
   "outputs": [
    {
     "data": {
      "text/plain": [
       "'yashu'"
      ]
     },
     "execution_count": 77,
     "metadata": {},
     "output_type": "execute_result"
    }
   ],
   "source": [
    "my_tuple[0]"
   ]
  },
  {
   "cell_type": "code",
   "execution_count": 78,
   "id": "8b474bc7-a7e3-457d-a6b5-a9f6a979cf12",
   "metadata": {},
   "outputs": [
    {
     "name": "stdout",
     "output_type": "stream",
     "text": [
      "<class 'tuple'>\n",
      "('yashu', 'alice', 'john')\n"
     ]
    }
   ],
   "source": [
    "print(type(my_tuple))\n",
    "print(my_tuple)"
   ]
  },
  {
   "cell_type": "code",
   "execution_count": 80,
   "id": "d69f26fa-6988-4cdc-8175-cfc716511755",
   "metadata": {},
   "outputs": [
    {
     "data": {
      "text/plain": [
       "1"
      ]
     },
     "execution_count": 80,
     "metadata": {},
     "output_type": "execute_result"
    }
   ],
   "source": [
    "## Inbuilt function\n",
    "my_tuple.count('yashu')"
   ]
  },
  {
   "cell_type": "code",
   "execution_count": 82,
   "id": "0a0a79ae-e08b-4280-8aef-809f2fc7f3c2",
   "metadata": {},
   "outputs": [
    {
     "data": {
      "text/plain": [
       "1"
      ]
     },
     "execution_count": 82,
     "metadata": {},
     "output_type": "execute_result"
    }
   ],
   "source": [
    "my_tuple.index('alice')"
   ]
  }
 ],
 "metadata": {
  "kernelspec": {
   "display_name": "Python 3 (ipykernel)",
   "language": "python",
   "name": "python3"
  },
  "language_info": {
   "codemirror_mode": {
    "name": "ipython",
    "version": 3
   },
   "file_extension": ".py",
   "mimetype": "text/x-python",
   "name": "python",
   "nbconvert_exporter": "python",
   "pygments_lexer": "ipython3",
   "version": "3.13.5"
  }
 },
 "nbformat": 4,
 "nbformat_minor": 5
}
